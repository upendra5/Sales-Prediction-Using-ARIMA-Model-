{
 "cells": [
  {
   "cell_type": "code",
   "execution_count": 1,
   "metadata": {},
   "outputs": [
    {
     "name": "stdout",
     "output_type": "stream",
     "text": [
      "start date:-2014-01-06 00:00:00 , end date:-2017-12-30 00:00:00 \n",
      "\n",
      "\n",
      "Checking for missing values:-\n",
      "Order Date    0\n",
      "Sales         0\n",
      "dtype: int64\n",
      "\n",
      "\n",
      "   Furniture dataframe head\n",
      "  Order Date     Sales\n",
      "0 2014-01-06  2573.820\n",
      "1 2014-01-07    76.728\n",
      "2 2014-01-10    51.940\n",
      "3 2014-01-11     9.940\n",
      "4 2014-01-13   879.939\n",
      "\n",
      "\n",
      "   Furniture dataframe tail\n",
      "    Order Date      Sales\n",
      "884 2017-12-24  1393.4940\n",
      "885 2017-12-25   832.4540\n",
      "886 2017-12-28   551.2568\n",
      "887 2017-12-29  2330.7180\n",
      "888 2017-12-30   323.1360\n",
      "\n",
      "\n",
      "   Furniture index(new)\n",
      "DatetimeIndex(['2014-01-06', '2014-01-07', '2014-01-10', '2014-01-11',\n",
      "               '2014-01-13', '2014-01-14', '2014-01-16', '2014-01-19',\n",
      "               '2014-01-20', '2014-01-21',\n",
      "               ...\n",
      "               '2017-12-18', '2017-12-19', '2017-12-21', '2017-12-22',\n",
      "               '2017-12-23', '2017-12-24', '2017-12-25', '2017-12-28',\n",
      "               '2017-12-29', '2017-12-30'],\n",
      "              dtype='datetime64[ns]', name='Order Date', length=889, freq=None)\n",
      "\n",
      "\n",
      "Month Start of 2017(Regular Time Series)\n",
      "Order Date\n",
      "2017-01-01     397.602133\n",
      "2017-02-01     528.179800\n",
      "2017-03-01     544.672240\n",
      "2017-04-01     453.297905\n",
      "2017-05-01     678.302328\n",
      "2017-06-01     826.460291\n",
      "2017-07-01     562.524857\n",
      "2017-08-01     857.881889\n",
      "2017-09-01    1209.508583\n",
      "2017-10-01     875.362728\n",
      "2017-11-01    1277.817759\n",
      "2017-12-01    1256.298672\n",
      "Freq: MS, Name: Sales, dtype: float64\n",
      "\n",
      "\n",
      " Visualizing Furniture Sales\n"
     ]
    },
    {
     "data": {
      "text/plain": [
       "<Figure size 1500x600 with 1 Axes>"
      ]
     },
     "metadata": {},
     "output_type": "display_data"
    },
    {
     "name": "stdout",
     "output_type": "stream",
     "text": [
      "\n",
      "\n",
      " Decomposition to its Components\n"
     ]
    },
    {
     "data": {
      "text/plain": [
       "<Figure size 1800x800 with 4 Axes>"
      ]
     },
     "metadata": {},
     "output_type": "display_data"
    },
    {
     "name": "stdout",
     "output_type": "stream",
     "text": [
      "Examples of parameter combinations for ARIMA Model...\n",
      "(p,d,q),(P,D,Q): (0, 0, 1) , (0, 0, 1, 12)\n",
      "(p,d,q),(P,D,Q): (0, 0, 1) , (0, 1, 0, 12)\n",
      "(p,d,q),(P,D,Q): (1, 0, 1) , (0, 1, 1, 12)\n",
      "(p,d,q),(P,D,Q): (1, 1, 0) , (1, 0, 0, 12)\n",
      "\n",
      "\n",
      "Selection of parameter combination based on Information Criteria\n",
      "ARIMA(0, 0, 0),(0, 0, 0, 12) - BIC:770.9318999223017\n"
     ]
    },
    {
     "name": "stderr",
     "output_type": "stream",
     "text": [
      "c:\\users\\rahul udaiwal\\appdata\\local\\programs\\python\\python37\\lib\\site-packages\\statsmodels\\base\\model.py:508: ConvergenceWarning: Maximum Likelihood optimization failed to converge. Check mle_retvals\n",
      "  \"Check mle_retvals\", ConvergenceWarning)\n"
     ]
    },
    {
     "name": "stdout",
     "output_type": "stream",
     "text": [
      "ARIMA(0, 0, 0),(0, 0, 1, 12) - BIC:1399.037912410599\n",
      "ARIMA(0, 0, 0),(0, 1, 0, 12) - BIC:479.2723611535172\n",
      "ARIMA(0, 0, 0),(1, 0, 0, 12) - BIC:500.3984812187459\n"
     ]
    },
    {
     "name": "stderr",
     "output_type": "stream",
     "text": [
      "c:\\users\\rahul udaiwal\\appdata\\local\\programs\\python\\python37\\lib\\site-packages\\statsmodels\\base\\model.py:508: ConvergenceWarning: Maximum Likelihood optimization failed to converge. Check mle_retvals\n",
      "  \"Check mle_retvals\", ConvergenceWarning)\n"
     ]
    },
    {
     "name": "stdout",
     "output_type": "stream",
     "text": [
      "ARIMA(0, 0, 0),(1, 0, 1, 12) - BIC:1257.8875742369737\n",
      "ARIMA(0, 0, 0),(1, 1, 0, 12) - BIC:320.36082757233\n",
      "ARIMA(0, 0, 1),(0, 0, 0, 12) - BIC:724.5825098687882\n",
      "ARIMA(0, 0, 1),(0, 0, 1, 12) - BIC:nan\n",
      "ARIMA(0, 0, 1),(0, 1, 0, 12) - BIC:469.61346403014574\n"
     ]
    },
    {
     "name": "stderr",
     "output_type": "stream",
     "text": [
      "c:\\users\\rahul udaiwal\\appdata\\local\\programs\\python\\python37\\lib\\site-packages\\statsmodels\\base\\model.py:508: ConvergenceWarning: Maximum Likelihood optimization failed to converge. Check mle_retvals\n",
      "  \"Check mle_retvals\", ConvergenceWarning)\n",
      "c:\\users\\rahul udaiwal\\appdata\\local\\programs\\python\\python37\\lib\\site-packages\\statsmodels\\base\\model.py:508: ConvergenceWarning: Maximum Likelihood optimization failed to converge. Check mle_retvals\n",
      "  \"Check mle_retvals\", ConvergenceWarning)\n"
     ]
    },
    {
     "name": "stdout",
     "output_type": "stream",
     "text": [
      "ARIMA(0, 0, 1),(1, 0, 0, 12) - BIC:504.32362492978484\n",
      "ARIMA(0, 0, 1),(1, 0, 1, 12) - BIC:2646.6234320763424\n",
      "ARIMA(0, 0, 1),(1, 1, 0, 12) - BIC:323.5226491857304\n",
      "ARIMA(0, 1, 0),(0, 0, 0, 12) - BIC:679.7234082404331\n"
     ]
    },
    {
     "name": "stderr",
     "output_type": "stream",
     "text": [
      "c:\\users\\rahul udaiwal\\appdata\\local\\programs\\python\\python37\\lib\\site-packages\\statsmodels\\base\\model.py:508: ConvergenceWarning: Maximum Likelihood optimization failed to converge. Check mle_retvals\n",
      "  \"Check mle_retvals\", ConvergenceWarning)\n"
     ]
    },
    {
     "name": "stdout",
     "output_type": "stream",
     "text": [
      "ARIMA(0, 1, 0),(0, 0, 1, 12) - BIC:758.9794923001191\n",
      "ARIMA(0, 1, 0),(0, 1, 0, 12) - BIC:488.1642172444544\n",
      "ARIMA(0, 1, 0),(1, 0, 0, 12) - BIC:500.89966242341956\n"
     ]
    },
    {
     "name": "stderr",
     "output_type": "stream",
     "text": [
      "c:\\users\\rahul udaiwal\\appdata\\local\\programs\\python\\python37\\lib\\site-packages\\statsmodels\\base\\model.py:508: ConvergenceWarning: Maximum Likelihood optimization failed to converge. Check mle_retvals\n",
      "  \"Check mle_retvals\", ConvergenceWarning)\n"
     ]
    },
    {
     "name": "stdout",
     "output_type": "stream",
     "text": [
      "ARIMA(0, 1, 0),(1, 0, 1, 12) - BIC:1137.1575069986459\n",
      "ARIMA(0, 1, 0),(1, 1, 0, 12) - BIC:322.04239524277943\n",
      "ARIMA(0, 1, 1),(0, 0, 0, 12) - BIC:653.5189426612487\n",
      "ARIMA(0, 1, 1),(0, 0, 1, 12) - BIC:2678.0157886383026\n",
      "ARIMA(0, 1, 1),(0, 1, 0, 12) - BIC:461.8635699712165\n",
      "ARIMA(0, 1, 1),(1, 0, 0, 12) - BIC:490.84934192872095\n",
      "ARIMA(0, 1, 1),(1, 0, 1, 12) - BIC:2389.25604271122\n",
      "ARIMA(0, 1, 1),(1, 1, 0, 12) - BIC:314.1639194895213\n",
      "ARIMA(1, 0, 0),(0, 0, 0, 12) - BIC:695.8648474101913\n"
     ]
    },
    {
     "name": "stderr",
     "output_type": "stream",
     "text": [
      "c:\\users\\rahul udaiwal\\appdata\\local\\programs\\python\\python37\\lib\\site-packages\\statsmodels\\base\\model.py:508: ConvergenceWarning: Maximum Likelihood optimization failed to converge. Check mle_retvals\n",
      "  \"Check mle_retvals\", ConvergenceWarning)\n"
     ]
    },
    {
     "name": "stdout",
     "output_type": "stream",
     "text": [
      "ARIMA(1, 0, 0),(0, 0, 1, 12) - BIC:1486.2263875043557\n",
      "ARIMA(1, 0, 0),(0, 1, 0, 12) - BIC:482.5739109081924\n",
      "ARIMA(1, 0, 0),(1, 0, 0, 12) - BIC:485.59198097798765\n"
     ]
    },
    {
     "name": "stderr",
     "output_type": "stream",
     "text": [
      "c:\\users\\rahul udaiwal\\appdata\\local\\programs\\python\\python37\\lib\\site-packages\\statsmodels\\base\\model.py:508: ConvergenceWarning: Maximum Likelihood optimization failed to converge. Check mle_retvals\n",
      "  \"Check mle_retvals\", ConvergenceWarning)\n"
     ]
    },
    {
     "name": "stdout",
     "output_type": "stream",
     "text": [
      "ARIMA(1, 0, 0),(1, 0, 1, 12) - BIC:1164.4130373043922\n",
      "ARIMA(1, 0, 0),(1, 1, 0, 12) - BIC:307.8729501562457\n",
      "ARIMA(1, 0, 1),(0, 0, 0, 12) - BIC:671.2653684080642\n",
      "ARIMA(1, 0, 1),(0, 0, 1, 12) - BIC:20221280.18128667\n",
      "ARIMA(1, 0, 1),(0, 1, 0, 12) - BIC:472.947601155422\n",
      "ARIMA(1, 0, 1),(1, 0, 0, 12) - BIC:488.79772463365373\n",
      "ARIMA(1, 0, 1),(1, 0, 1, 12) - BIC:nan\n",
      "ARIMA(1, 0, 1),(1, 1, 0, 12) - BIC:310.5575770756724\n",
      "ARIMA(1, 1, 0),(0, 0, 0, 12) - BIC:674.9086375471684\n"
     ]
    },
    {
     "name": "stderr",
     "output_type": "stream",
     "text": [
      "c:\\users\\rahul udaiwal\\appdata\\local\\programs\\python\\python37\\lib\\site-packages\\statsmodels\\base\\model.py:508: ConvergenceWarning: Maximum Likelihood optimization failed to converge. Check mle_retvals\n",
      "  \"Check mle_retvals\", ConvergenceWarning)\n"
     ]
    },
    {
     "name": "stdout",
     "output_type": "stream",
     "text": [
      "ARIMA(1, 1, 0),(0, 0, 1, 12) - BIC:1307.7870571252527\n",
      "ARIMA(1, 1, 0),(0, 1, 0, 12) - BIC:482.25306327734575\n",
      "ARIMA(1, 1, 0),(1, 0, 0, 12) - BIC:479.9194474523442\n",
      "ARIMA(1, 1, 0),(1, 0, 1, 12) - BIC:3434495353.3626885\n",
      "ARIMA(1, 1, 0),(1, 1, 0, 12) - BIC:303.90021749461613\n",
      "ARIMA(1, 1, 1),(0, 0, 0, 12) - BIC:654.4517894527664\n",
      "ARIMA(1, 1, 1),(0, 0, 1, 12) - BIC:9152.573278578378\n",
      "ARIMA(1, 1, 1),(0, 1, 0, 12) - BIC:464.9657914455164\n",
      "ARIMA(1, 1, 1),(1, 0, 0, 12) - BIC:475.6304775645432\n"
     ]
    },
    {
     "name": "stderr",
     "output_type": "stream",
     "text": [
      "c:\\users\\rahul udaiwal\\appdata\\local\\programs\\python\\python37\\lib\\site-packages\\statsmodels\\base\\model.py:508: ConvergenceWarning: Maximum Likelihood optimization failed to converge. Check mle_retvals\n",
      "  \"Check mle_retvals\", ConvergenceWarning)\n"
     ]
    },
    {
     "name": "stdout",
     "output_type": "stream",
     "text": [
      "ARIMA(1, 1, 1),(1, 0, 1, 12) - BIC:2393.8199032685993\n",
      "ARIMA(1, 1, 1),(1, 1, 0, 12) - BIC:302.1517137669561\n",
      "\n",
      "Best model so far ARIMA(1,1,1)(1,1,0,12)\n",
      "\n",
      "\n",
      "Summary of the Selected Model\n",
      "                                 Statespace Model Results                                 \n",
      "==========================================================================================\n",
      "Dep. Variable:                              Sales   No. Observations:                   48\n",
      "Model:             SARIMAX(1, 1, 1)x(1, 1, 0, 12)   Log Likelihood                -144.894\n",
      "Date:                            Fri, 03 May 2019   AIC                            297.788\n",
      "Time:                                    08:53:44   BIC                            302.152\n",
      "Sample:                                01-01-2014   HQIC                           298.816\n",
      "                                     - 12-01-2017                                         \n",
      "Covariance Type:                              opg                                         \n",
      "==============================================================================\n",
      "                 coef    std err          z      P>|z|      [0.025      0.975]\n",
      "------------------------------------------------------------------------------\n",
      "ar.L1          0.0146      0.342      0.043      0.966      -0.655       0.684\n",
      "ma.L1         -1.0000      0.360     -2.781      0.005      -1.705      -0.295\n",
      "ar.S.L12      -0.0253      0.042     -0.609      0.543      -0.107       0.056\n",
      "sigma2      2.958e+04   1.22e-05   2.43e+09      0.000    2.96e+04    2.96e+04\n",
      "===================================================================================\n",
      "Ljung-Box (Q):                       21.51   Jarque-Bera (JB):                 0.84\n",
      "Prob(Q):                              0.43   Prob(JB):                         0.66\n",
      "Heteroskedasticity (H):               0.55   Skew:                             0.44\n",
      "Prob(H) (two-sided):                  0.45   Kurtosis:                         2.62\n",
      "===================================================================================\n",
      "\n",
      "Warnings:\n",
      "[1] Covariance matrix calculated using the outer product of gradients (complex-step).\n",
      "[2] Covariance matrix is singular or near-singular, with condition number 1.36e+25. Standard errors may be unstable.\n"
     ]
    },
    {
     "data": {
      "text/plain": [
       "<Figure size 1600x800 with 4 Axes>"
      ]
     },
     "metadata": {},
     "output_type": "display_data"
    },
    {
     "name": "stdout",
     "output_type": "stream",
     "text": [
      "\n",
      "\n",
      " Validating forecast\n"
     ]
    },
    {
     "data": {
      "text/plain": [
       "<Figure size 1400x700 with 1 Axes>"
      ]
     },
     "metadata": {},
     "output_type": "display_data"
    },
    {
     "name": "stdout",
     "output_type": "stream",
     "text": [
      "The Root Mean Squared Error of our forecasts is 151.64\n",
      "\n",
      "Producing and visualizing forecasts\n"
     ]
    },
    {
     "data": {
      "text/plain": [
       "<Figure size 1400x700 with 1 Axes>"
      ]
     },
     "metadata": {},
     "output_type": "display_data"
    },
    {
     "name": "stdout",
     "output_type": "stream",
     "text": [
      "Office supplies first time produced higher sales than furniture is 2014-07-01.\n"
     ]
    }
   ],
   "source": [
    "# Sales Pridiction using ARIMA Model\n",
    "\n",
    "import warnings\n",
    "import itertools\n",
    "import numpy as np\n",
    "import matplotlib.pyplot as plt\n",
    "warnings.filterwarnings(\"ignore\")\n",
    "plt.style.use('fivethirtyeight')\n",
    "import pandas as pd\n",
    "import statsmodels.api as sm\n",
    "import matplotlib\n",
    "\n",
    "matplotlib.rcParams['axes.labelsize'] = 14\n",
    "matplotlib.rcParams['xtick.labelsize'] = 12\n",
    "matplotlib.rcParams['ytick.labelsize'] = 12\n",
    "matplotlib.rcParams['text.color'] = 'k'\n",
    "\n",
    "\n",
    "df = pd.read_excel(\"Superstore.xls\")\n",
    "furniture = df.loc[df['Category'] == 'Furniture']\n",
    "\n",
    "\n",
    "print(\"start date:-{} , end date:-{} \".format(furniture['Order Date'].min(),furniture['Order Date'].max()))\n",
    "\n",
    "\n",
    "cols = ['Row ID', 'Order ID', 'Ship Date', 'Ship Mode', 'Customer ID', 'Customer Name', 'Segment', 'Country', 'City', 'State', 'Postal Code', 'Region', 'Product ID', 'Category', 'Sub-Category', 'Product Name', 'Quantity', 'Discount', 'Profit']\n",
    "furniture.drop(cols, axis=1, inplace=True)\n",
    "furniture = furniture.sort_values('Order Date')\n",
    "\n",
    "# Checking for Missing values\n",
    "print(\"\\n\\nChecking for missing values:-\")\n",
    "print(furniture.isnull().sum())\n",
    "\n",
    "furniture = furniture.groupby('Order Date')['Sales'].sum().reset_index()\n",
    "\n",
    "print(\"\\n\\n   Furniture dataframe head\")\n",
    "print(furniture.head())\n",
    "print(\"\\n\\n   Furniture dataframe tail\")\n",
    "print(furniture.tail())\n",
    "\n",
    "furniture = furniture.set_index('Order Date')\n",
    "print(\"\\n\\n   Furniture index(new)\")\n",
    "print(furniture.index)\n",
    "\n",
    "#Month Start (Converting to regular time series)\n",
    "y = furniture['Sales'].resample('MS').mean()\n",
    "print(\"\\n\\nMonth Start of 2017(Regular Time Series)\")\n",
    "print(y['2017':])\n",
    "\n",
    "#Visualizing Furniture Sales Time Series Data\n",
    "print(\"\\n\\n Visualizing Furniture Sales\")\n",
    "y.plot(figsize=(15, 6))\n",
    "plt.show()\n",
    "\n",
    "\n",
    "from pylab import rcParams\n",
    "rcParams['figure.figsize'] = 18, 8\n",
    "\n",
    "#decompsition of time series data to its components\n",
    "print(\"\\n\\n Decomposition to its Components\")\n",
    "decomposition = sm.tsa.seasonal_decompose(y, model='additive')\n",
    "fig = decomposition.plot()\n",
    "plt.show()\n",
    "\n",
    "# Combination of parameters\n",
    "p = d = q = range(0, 2)\n",
    "pdq = list(itertools.product(p, d, q))\n",
    "seasonal_pdq = [(x[0], x[1], x[2], 12) for x in list(itertools.product(p, d, q))]\n",
    "\n",
    "print('Examples of parameter combinations for ARIMA Model...')\n",
    "print('(p,d,q),(P,D,Q): {} , {}'.format(pdq[1], seasonal_pdq[1]))\n",
    "print('(p,d,q),(P,D,Q): {} , {}'.format(pdq[1], seasonal_pdq[2]))\n",
    "print('(p,d,q),(P,D,Q): {} , {}'.format(pdq[5], seasonal_pdq[3]))\n",
    "print('(p,d,q),(P,D,Q): {} , {}'.format(pdq[6], seasonal_pdq[4]))\n",
    "\n",
    "#parameter combination selection\n",
    "print(\"\\n\\nSelection of parameter combination based on Information Criteria\")\n",
    "for param in pdq:\n",
    "    for param_seasonal in seasonal_pdq:\n",
    "        try:\n",
    "            mod = sm.tsa.statespace.SARIMAX(y,\n",
    "                                            order=param,\n",
    "                                            seasonal_order=param_seasonal,\n",
    "                                            enforce_stationarity=False,\n",
    "                                            enforce_invertibility=False)\n",
    "\n",
    "            results = mod.fit()\n",
    "\n",
    "            print('ARIMA{},{} - BIC:{}'.format(param, param_seasonal, results.bic))\n",
    "        except:\n",
    "            continue\n",
    "\n",
    "print(\"\\nBest model so far ARIMA(1,1,1)(1,1,0,12)\")\n",
    "# Fitting the model\n",
    "mod = sm.tsa.statespace.SARIMAX(y,\n",
    "                                order=(1, 1, 1),\n",
    "                                seasonal_order=(1, 1, 0, 12),\n",
    "                                enforce_stationarity=False,\n",
    "                                enforce_invertibility=False)\n",
    "\n",
    "results = mod.fit()\n",
    "print(\"\\n\\nSummary of the Selected Model\")\n",
    "print(results.summary())\n",
    "\n",
    "#Residual of the model\n",
    "results.plot_diagnostics(figsize=(16, 8))\n",
    "plt.show()\n",
    "\n",
    "# Validating forecasts\n",
    "print(\"\\n\\n Validating forecast\")\n",
    "pred = results.get_prediction(start=pd.to_datetime('2017-01-01'), dynamic=False)\n",
    "pred_ci = pred.conf_int()\n",
    "\n",
    "ax = y['2014':].plot(label='observed')\n",
    "pred.predicted_mean.plot(ax=ax, label='One-step ahead Forecast', alpha=.7, figsize=(14, 7))\n",
    "\n",
    "ax.fill_between(pred_ci.index,\n",
    "                pred_ci.iloc[:, 0],\n",
    "                pred_ci.iloc[:, 1], color='k', alpha=.2)\n",
    "\n",
    "ax.set_xlabel('Date')\n",
    "ax.set_ylabel('Furniture Sales')\n",
    "plt.legend()\n",
    "\n",
    "plt.show()\n",
    "\n",
    "#The Root Mean Squared Error of our forecasts\n",
    "y_forecasted = pred.predicted_mean\n",
    "y_truth = y['2017-01-01':]\n",
    "mse = ((y_forecasted - y_truth) ** 2).mean()\n",
    "print('The Root Mean Squared Error of our forecasts is {}'.format(round(np.sqrt(mse), 2)))\n",
    "\n",
    "\n",
    "#Producing and visualizing forecasts\n",
    "print(\"\\nProducing and visualizing forecasts\")\n",
    "pred_uc = results.get_forecast(steps=25)\n",
    "pred_ci = pred_uc.conf_int()\n",
    "\n",
    "ax = y.plot(label='observed', figsize=(14, 7))\n",
    "pred_uc.predicted_mean.plot(ax=ax, label='Forecast')\n",
    "ax.fill_between(pred_ci.index,\n",
    "                pred_ci.iloc[:, 0],\n",
    "                pred_ci.iloc[:, 1], color='k', alpha=.25)\n",
    "ax.set_xlabel('Date')\n",
    "ax.set_ylabel('Furniture Sales')\n",
    "\n",
    "plt.legend()\n",
    "plt.show()\n",
    "\n",
    "\n",
    "\n",
    "furniture = df.loc[df['Category'] == 'Furniture']\n",
    "office = df.loc[df['Category'] == 'Office Supplies']\n",
    "\n",
    "furniture.shape, office.shape\n",
    "\n",
    "\n",
    "cols = ['Row ID', 'Order ID', 'Ship Date', 'Ship Mode', 'Customer ID', 'Customer Name', 'Segment', 'Country', 'City', 'State', 'Postal Code', 'Region', 'Product ID', 'Category', 'Sub-Category', 'Product Name', 'Quantity', 'Discount', 'Profit']\n",
    "furniture.drop(cols, axis=1, inplace=True)\n",
    "office.drop(cols, axis=1, inplace=True)\n",
    "\n",
    "furniture = furniture.sort_values('Order Date')\n",
    "office = office.sort_values('Order Date')\n",
    "\n",
    "furniture = furniture.groupby('Order Date')['Sales'].sum().reset_index()\n",
    "office = office.groupby('Order Date')['Sales'].sum().reset_index()\n",
    "\n",
    "furniture.head()\n",
    "\n",
    "office.head()\n",
    "\n",
    "\n",
    "\n",
    "furniture = furniture.set_index('Order Date')\n",
    "office = office.set_index('Order Date')\n",
    "\n",
    "y_furniture = furniture['Sales'].resample('MS').mean()\n",
    "y_office = office['Sales'].resample('MS').mean()\n",
    "\n",
    "furniture = pd.DataFrame({'Order Date':y_furniture.index, 'Sales':y_furniture.values})\n",
    "office = pd.DataFrame({'Order Date': y_office.index, 'Sales': y_office.values})\n",
    "\n",
    "store = furniture.merge(office, how='inner', on='Order Date')\n",
    "store.rename(columns={'Sales_x': 'furniture_sales', 'Sales_y': 'office_sales'}, inplace=True)\n",
    "store.head()\n",
    "\n",
    "\n",
    "plt.figure(figsize=(20, 8))\n",
    "plt.plot(store['Order Date'], store['furniture_sales'], 'b-', label = 'furniture')\n",
    "plt.plot(store['Order Date'], store['office_sales'], 'r-', label = 'office supplies')\n",
    "plt.xlabel('Date'); plt.ylabel('Sales'); plt.title('Sales of Furniture and Office Supplies')\n",
    "plt.legend();\n",
    "\n",
    "first_date = store.ix[np.min(list(np.where(store['office_sales'] > store['furniture_sales'])[0])), 'Order Date']\n",
    "\n",
    "print(\"Office supplies first time produced higher sales than furniture is {}.\".format(first_date.date()))"
   ]
  },
  {
   "cell_type": "code",
   "execution_count": null,
   "metadata": {},
   "outputs": [],
   "source": []
  }
 ],
 "metadata": {
  "kernelspec": {
   "display_name": "Python 3",
   "language": "python",
   "name": "python3"
  },
  "language_info": {
   "codemirror_mode": {
    "name": "ipython",
    "version": 3
   },
   "file_extension": ".py",
   "mimetype": "text/x-python",
   "name": "python",
   "nbconvert_exporter": "python",
   "pygments_lexer": "ipython3",
   "version": "3.7.3"
  }
 },
 "nbformat": 4,
 "nbformat_minor": 2
}
